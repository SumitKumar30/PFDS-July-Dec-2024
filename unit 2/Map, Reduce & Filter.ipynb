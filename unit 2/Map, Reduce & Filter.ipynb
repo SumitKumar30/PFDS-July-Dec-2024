{
 "cells": [
  {
   "cell_type": "code",
   "execution_count": 7,
   "metadata": {
    "collapsed": false,
    "jupyter": {
     "outputs_hidden": false
    }
   },
   "outputs": [
    {
     "ename": "TypeError",
     "evalue": "unsupported operand type(s) for ** or pow(): 'list' and 'int'",
     "output_type": "error",
     "traceback": [
      "\u001b[1;31m---------------------------------------------------------------------------\u001b[0m",
      "\u001b[1;31mTypeError\u001b[0m                                 Traceback (most recent call last)",
      "Cell \u001b[1;32mIn[7], line 2\u001b[0m\n\u001b[0;32m      1\u001b[0m first_list \u001b[38;5;241m=\u001b[39m [\u001b[38;5;241m2\u001b[39m, \u001b[38;5;241m4\u001b[39m, \u001b[38;5;241m5\u001b[39m]\n\u001b[1;32m----> 2\u001b[0m \u001b[38;5;28mprint\u001b[39m(first_list\u001b[38;5;241m*\u001b[39m\u001b[38;5;241m*\u001b[39m\u001b[38;5;241m2\u001b[39m)\n",
      "\u001b[1;31mTypeError\u001b[0m: unsupported operand type(s) for ** or pow(): 'list' and 'int'"
     ]
    }
   ],
   "source": [
    "first_list = [2, 4, 5]\n",
    "print(first_list**2)\n"
   ]
  },
  {
   "cell_type": "code",
   "execution_count": 9,
   "metadata": {},
   "outputs": [],
   "source": [
    "first_list = [2, 4, 5]"
   ]
  },
  {
   "cell_type": "code",
   "execution_count": 11,
   "metadata": {
    "collapsed": false,
    "jupyter": {
     "outputs_hidden": false
    }
   },
   "outputs": [
    {
     "name": "stdout",
     "output_type": "stream",
     "text": [
      "<map object at 0x000001DD239A1CC0>\n"
     ]
    }
   ],
   "source": [
    "print(map(lambda x: x**2, first_list))"
   ]
  },
  {
   "cell_type": "code",
   "execution_count": 13,
   "metadata": {
    "collapsed": false,
    "jupyter": {
     "outputs_hidden": false
    }
   },
   "outputs": [
    {
     "name": "stdout",
     "output_type": "stream",
     "text": [
      "[4, 16, 25]\n"
     ]
    }
   ],
   "source": [
    "first_list = [2,4,5]\n",
    "print(list(map(lambda x: x**2, first_list)))"
   ]
  },
  {
   "cell_type": "markdown",
   "metadata": {},
   "source": [
    " \n",
    "Using the Map function, create a list 'cube', which consists of the cube of numbers in input_list.\r\n",
    "\r\n",
    "For e.g. if the input list is [5,6,4,8,9], the output should be [125, 216, 64, 512, 729]."
   ]
  },
  {
   "cell_type": "code",
   "execution_count": 15,
   "metadata": {
    "collapsed": false,
    "jupyter": {
     "outputs_hidden": false
    }
   },
   "outputs": [
    {
     "name": "stdout",
     "output_type": "stream",
     "text": [
      "[4, 16, 25]\n"
     ]
    }
   ],
   "source": [
    "def squareit(n):\n",
    "    return n**2\n",
    "print(list(map(squareit, first_list)))\n"
   ]
  },
  {
   "cell_type": "code",
   "execution_count": null,
   "metadata": {},
   "outputs": [],
   "source": [
    "# Function to return double of n\n",
    "def double(n):\n",
    "    return n * 2\n",
    "\n",
    "# Using map to double all numbers\n",
    "numbers = [5, 6, 7, 8]\n",
    "result = map(double, numbers)\n",
    "print(list(result))"
   ]
  },
  {
   "cell_type": "code",
   "execution_count": 17,
   "metadata": {
    "collapsed": false,
    "jupyter": {
     "outputs_hidden": false
    }
   },
   "outputs": [
    {
     "name": "stdout",
     "output_type": "stream",
     "text": [
      "[7, 10, 15, 14]\n"
     ]
    }
   ],
   "source": [
    "sums_list = [3,5,9,7]\n",
    "sums_list2 = (4,5,6,7)\n",
    "print(list(map(lambda x,y : x+y, sums_list,sums_list2)))\n"
   ]
  },
  {
   "cell_type": "code",
   "execution_count": 19,
   "metadata": {
    "collapsed": false,
    "jupyter": {
     "outputs_hidden": false
    }
   },
   "outputs": [
    {
     "name": "stdout",
     "output_type": "stream",
     "text": [
      "['Nikola Tesla', 'James Watt', 'Albert Einstein']\n"
     ]
    }
   ],
   "source": [
    "list_of_names = ['nikola', 'james', 'albert']\n",
    "list_of_names2 = ['tesla','watt','einstein']\n",
    "proper = lambda x, y: x[0].upper()+x[1:] +' '+ y[0].upper()+y[1:]\n",
    "print(list(map(proper, list_of_names,list_of_names2)))\n"
   ]
  },
  {
   "cell_type": "markdown",
   "metadata": {},
   "source": [
    "\n",
    "Create a list ‘name’ consisting of the combination of the first name and the second name from list 1 and 2 respectively. \n",
    "\n",
    "For e.g. if the input list is:\n",
    "[ ['Ankur', 'Avik', 'Kiran', 'Nitin'], ['Narang', 'Sarkar', 'R', 'Sareen']]\n",
    "\n",
    "the output list should be the list:\n",
    "['Ankur Narang', 'Avik Sarkar', 'Kiran R', 'Nitin Sareen']\n",
    "\n",
    "Note: Add a space between first name and last name."
   ]
  },
  {
   "cell_type": "code",
   "execution_count": 21,
   "metadata": {
    "collapsed": false,
    "jupyter": {
     "outputs_hidden": false
    }
   },
   "outputs": [
    {
     "name": "stdout",
     "output_type": "stream",
     "text": [
      "[3, 6, 9]\n"
     ]
    }
   ],
   "source": [
    "#Filter\n",
    "divby3 = lambda x:  x % 3 == 0\n",
    "my_list = [3,4,5,6,7,8,9]\n",
    "div = filter(divby3, my_list)\n",
    "print(list(div))\n"
   ]
  },
  {
   "cell_type": "code",
   "execution_count": 23,
   "metadata": {},
   "outputs": [
    {
     "name": "stdout",
     "output_type": "stream",
     "text": [
      "Even numbers: [2, 4, 6, 8, 10]\n"
     ]
    }
   ],
   "source": [
    "# Define a function to check if a number is even\n",
    "def is_even(n):\n",
    "    return n % 2 == 0\n",
    "\n",
    "# Define a list of numbers\n",
    "numbers = [1, 2, 3, 4, 5, 6, 7, 8, 9, 10]\n",
    "\n",
    "# Use filter to filter out even numbers\n",
    "even_numbers = filter(is_even, numbers)\n",
    "print(\"Even numbers:\", list(even_numbers))  \n"
   ]
  },
  {
   "cell_type": "code",
   "execution_count": 25,
   "metadata": {},
   "outputs": [
    {
     "name": "stdout",
     "output_type": "stream",
     "text": [
      "Product of list elements: 24\n"
     ]
    }
   ],
   "source": [
    "import functools\n",
    "\n",
    "# Define a list of numbers\n",
    "numbers = [1, 2, 3, 4]\n",
    "\n",
    "# Use reduce to compute the product of list elements\n",
    "product = functools.reduce(lambda x, y: x * y, numbers)\n",
    "print(\"Product of list elements:\", product)"
   ]
  },
  {
   "cell_type": "code",
   "execution_count": null,
   "metadata": {
    "collapsed": false,
    "jupyter": {
     "outputs_hidden": false
    }
   },
   "outputs": [],
   "source": [
    "#Reduce\n",
    "from functools import reduce\n",
    "q  = reduce(lambda x, y: x+y, range(1,4))\n",
    "print(q)\n"
   ]
  },
  {
   "cell_type": "code",
   "execution_count": null,
   "metadata": {
    "collapsed": false,
    "jupyter": {
     "outputs_hidden": false
    }
   },
   "outputs": [],
   "source": [
    "list_of_nums = [22,45,32,20,87,94,30]\n",
    "print(reduce(lambda x,y: x if x>y else y,list_of_nums))\n"
   ]
  },
  {
   "cell_type": "markdown",
   "metadata": {},
   "source": [
    "\n",
    "Extract a list of numbers that are multiples of 5 from a list of integers named input_list.\n"
   ]
  },
  {
   "cell_type": "code",
   "execution_count": 11,
   "metadata": {
    "jupyter": {
     "source_hidden": true
    }
   },
   "outputs": [
    {
     "name": "stdout",
     "output_type": "stream",
     "text": [
      "Multiples of 5: [15, 30, 35, 40, 65, 70, 95]\n"
     ]
    }
   ],
   "source": [
    "# Given list of integers\n",
    "input_list = [12, 15, 30, 22, 35, 40, 51, 65, 70, 81, 95]\n",
    "\n",
    "# Using filter() to extract multiples of 5\n",
    "multiples_of_5 = list(filter(lambda x: x % 5 == 0, input_list))\n",
    "\n",
    "# Print the resulting list\n",
    "print(\"Multiples of 5:\", multiples_of_5)\n"
   ]
  },
  {
   "cell_type": "markdown",
   "metadata": {},
   "source": [
    "\n",
    "You are given a list of strings such as input_list =  ['hdjk', 'salsap', 'sherpa'].\n",
    "\n",
    "Extract a list of names that start with an ‘s’ and end with a ‘p’ (both 's' and 'p' are lowercase) in input_list.\n",
    "\n"
   ]
  },
  {
   "cell_type": "code",
   "execution_count": 13,
   "metadata": {
    "collapsed": true,
    "jupyter": {
     "outputs_hidden": true
    }
   },
   "outputs": [
    {
     "name": "stdout",
     "output_type": "stream",
     "text": [
      "Names that start with 's' and end with 'p': ['salsap', 'skip', 'sop']\n"
     ]
    }
   ],
   "source": [
    "# Given list of strings\n",
    "input_list = ['hdjk', 'salsap', 'sherpa', 'skip', 'sop']\n",
    "\n",
    "# Using filter() to extract names that start with 's' and end with 'p'\n",
    "result = list(filter(lambda name: name.startswith('s') and name.endswith('p'), input_list))\n",
    "\n",
    "# Print the resulting list\n",
    "print(\"Names that start with 's' and end with 'p':\", result)\n"
   ]
  },
  {
   "cell_type": "code",
   "execution_count": null,
   "metadata": {},
   "outputs": [],
   "source": [
    "\n",
    "Using the Reduce function, concatenate a list of words in input_list, and print the output as a string.\n",
    "If input_list = ['I','Love','Python'], the output should be the string 'I Love Python'.\n"
   ]
  },
  {
   "cell_type": "code",
   "execution_count": 16,
   "metadata": {},
   "outputs": [
    {
     "name": "stdout",
     "output_type": "stream",
     "text": [
      "I Love Python\n"
     ]
    }
   ],
   "source": [
    "from functools import reduce\n",
    "\n",
    "# Given list of words\n",
    "input_list = ['I', 'Love', 'Python']\n",
    "\n",
    "# Use reduce to concatenate the words with a space in between\n",
    "concatenated_string = reduce(lambda acc, word: acc + ' ' + word, input_list)\n",
    "\n",
    "# Print the resulting string\n",
    "print(concatenated_string)\n"
   ]
  },
  {
   "cell_type": "markdown",
   "metadata": {},
   "source": [
    "You are given a list of numbers such as input_list = [31, 63, 76, 89]. Find and print the largest number in input_list using the reduce() function."
   ]
  },
  {
   "cell_type": "code",
   "execution_count": 19,
   "metadata": {
    "jupyter": {
     "source_hidden": true
    }
   },
   "outputs": [
    {
     "name": "stdout",
     "output_type": "stream",
     "text": [
      "The largest number is: 89\n"
     ]
    }
   ],
   "source": [
    "from functools import reduce\n",
    "\n",
    "# Given list of numbers\n",
    "input_list = [31, 63, 76, 89]\n",
    "\n",
    "# Use reduce() to find the largest number\n",
    "largest_number = reduce(lambda acc, num: acc if acc > num else num, input_list)\n",
    "\n",
    "# Print the largest number\n",
    "print(\"The largest number is:\", largest_number)\n"
   ]
  },
  {
   "cell_type": "markdown",
   "metadata": {},
   "source": [
    "#### Practice Questions"
   ]
  },
  {
   "cell_type": "markdown",
   "metadata": {},
   "source": [
    "Q1. Given an array of objects users, print only fullname.\n",
    "\n",
    "users=[\r\n",
    "  {firstName:\"john\",lastName:\"Biden\",age:26},\r\n",
    "  {firstName:\"jimmy\",lastName:\"cob\",age:75},\r\n",
    "  {firstName:\"sam\",lastName:\"lewis\",age:50},\r\n",
    "  {firstName:\"Ronald\",lastName:\"Mathew\",age:26},  \r\n",
    "];"
   ]
  },
  {
   "cell_type": "code",
   "execution_count": 3,
   "metadata": {},
   "outputs": [
    {
     "name": "stdout",
     "output_type": "stream",
     "text": [
      "john Biden\n",
      "jimmy cob\n",
      "sam lewis\n",
      "Ronald Mathew\n"
     ]
    }
   ],
   "source": [
    "users = [\n",
    "    {\"firstName\": \"john\", \"lastName\": \"Biden\", \"age\": 26},\n",
    "    {\"firstName\": \"jimmy\", \"lastName\": \"cob\", \"age\": 75},\n",
    "    {\"firstName\": \"sam\", \"lastName\": \"lewis\", \"age\": 50},\n",
    "    {\"firstName\": \"Ronald\", \"lastName\": \"Mathew\", \"age\": 26}\n",
    "]\n",
    "\n",
    "# Using map() and lambda to create a list of full names\n",
    "full_names = list(map(lambda user: f\"{user['firstName']} {user['lastName']}\", users))\n",
    "\n",
    "# Print the full names\n",
    "for name in full_names:\n",
    "    print(name)\n"
   ]
  },
  {
   "cell_type": "markdown",
   "metadata": {},
   "source": [
    "Q2. Given an array of objects users, print user of particular age along with their frequency.\n",
    "\n",
    "users=[\n",
    "  {firstName:\"john\",lastName:\"Biden\",age:26},\n",
    "  {firstName:\"jimmy\",lastName:\"cob\",age:75},\n",
    "  {firstName:\"sam\",lastName:\"lewis\",age:50},\n",
    "  {firstName:\"Ronald\",lastName:\"Mathew\",age:26},  \n",
    "];"
   ]
  },
  {
   "cell_type": "code",
   "execution_count": 6,
   "metadata": {},
   "outputs": [
    {
     "name": "stdout",
     "output_type": "stream",
     "text": [
      "Users with age 26:\n",
      "john Biden\n",
      "Ronald Mathew\n",
      "\n",
      "Total number of users with age 26: 2\n"
     ]
    }
   ],
   "source": [
    "users = [\n",
    "    {\"firstName\": \"john\", \"lastName\": \"Biden\", \"age\": 26},\n",
    "    {\"firstName\": \"jimmy\", \"lastName\": \"cob\", \"age\": 75},\n",
    "    {\"firstName\": \"sam\", \"lastName\": \"lewis\", \"age\": 50},\n",
    "    {\"firstName\": \"Ronald\", \"lastName\": \"Mathew\", \"age\": 26}\n",
    "]\n",
    "\n",
    "# Using filter to get users of age 26\n",
    "age_26_users = list(filter(lambda user: user['age'] == 26, users))\n",
    "\n",
    "# Print the users with age 26\n",
    "print(\"Users with age 26:\")\n",
    "count = 0\n",
    "for user in age_26_users:\n",
    "    print(f\"{user['firstName']} {user['lastName']}\")\n",
    "    count += 1\n",
    "\n",
    "# Print the frequency of users with age 26\n",
    "print(f\"\\nTotal number of users with age 26: {count}\")\n"
   ]
  },
  {
   "cell_type": "markdown",
   "metadata": {},
   "source": [
    "Q3. Print object having marks greater than 60 and rollNumber greater than 15.\n",
    "\n",
    "users = [\n",
    "    {\"firstName\": \"john\", \"lastName\": \"Biden\", \"age\": 26, \"marks\": 65, \"rollNumber\": 18},\n",
    "    {\"firstName\": \"jimmy\", \"lastName\": \"cob\", \"age\": 75, \"marks\": 55, \"rollNumber\": 16},\n",
    "    {\"firstName\": \"sam\", \"lastName\": \"lewis\", \"age\": 50, \"marks\": 72, \"rollNumber\": 14},\n",
    "    {\"firstName\": \"Ronald\", \"lastName\": \"Mathew\", \"age\": 26, \"marks\": 80, \"rollNumber\": 20}\n",
    "]"
   ]
  },
  {
   "cell_type": "code",
   "execution_count": 9,
   "metadata": {},
   "outputs": [
    {
     "name": "stdout",
     "output_type": "stream",
     "text": [
      "Users with marks greater than 60 and rollNumber greater than 15:\n",
      "{'firstName': 'john', 'lastName': 'Biden', 'age': 26, 'marks': 65, 'rollNumber': 18}\n",
      "{'firstName': 'Ronald', 'lastName': 'Mathew', 'age': 26, 'marks': 80, 'rollNumber': 20}\n"
     ]
    }
   ],
   "source": [
    "# Modified list of users to include 'marks' and 'rollNumber'\n",
    "users = [\n",
    "    {\"firstName\": \"john\", \"lastName\": \"Biden\", \"age\": 26, \"marks\": 65, \"rollNumber\": 18},\n",
    "    {\"firstName\": \"jimmy\", \"lastName\": \"cob\", \"age\": 75, \"marks\": 55, \"rollNumber\": 16},\n",
    "    {\"firstName\": \"sam\", \"lastName\": \"lewis\", \"age\": 50, \"marks\": 72, \"rollNumber\": 14},\n",
    "    {\"firstName\": \"Ronald\", \"lastName\": \"Mathew\", \"age\": 26, \"marks\": 80, \"rollNumber\": 20}\n",
    "]\n",
    "\n",
    "# Using filter() to get users with marks > 60 and rollNumber > 15\n",
    "filtered_users = list(filter(lambda user: user['marks'] > 60 and user['rollNumber'] > 15, users))\n",
    "\n",
    "# Print the filtered users\n",
    "print(\"Users with marks greater than 60 and rollNumber greater than 15:\")\n",
    "for user in filtered_users:\n",
    "    print(user)\n"
   ]
  },
  {
   "cell_type": "code",
   "execution_count": null,
   "metadata": {},
   "outputs": [],
   "source": []
  }
 ],
 "metadata": {
  "anaconda-cloud": {},
  "kernelspec": {
   "display_name": "Python 3 (ipykernel)",
   "language": "python",
   "name": "python3"
  },
  "language_info": {
   "codemirror_mode": {
    "name": "ipython",
    "version": 3
   },
   "file_extension": ".py",
   "mimetype": "text/x-python",
   "name": "python",
   "nbconvert_exporter": "python",
   "pygments_lexer": "ipython3",
   "version": "3.12.4"
  }
 },
 "nbformat": 4,
 "nbformat_minor": 4
}
