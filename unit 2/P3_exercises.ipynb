{
 "cells": [
  {
   "cell_type": "markdown",
   "id": "1c5147fa-441e-4d4a-94b5-0911bbe9f433",
   "metadata": {},
   "source": [
    "# NumPy Basics"
   ]
  },
  {
   "cell_type": "markdown",
   "id": "0bf81d26-4d16-47fa-86f4-1f0c78293103",
   "metadata": {},
   "source": [
    "1. Create a 2D NumPy array of size 4x5 filled with random integers between 10 and 50. Then, compute the sum of all elements, the sum of each column, and the sum of each row. Finally, find the maximum and minimum values in the array."
   ]
  },
  {
   "cell_type": "markdown",
   "id": "19291629-0440-4477-a121-a676f6c0cfe7",
   "metadata": {},
   "source": [
    "2. Create two lists list_1 and list_2 with 10 random integers each. Convert these lists into NumPy arrays array_1 and array_2. Perform element-wise addition, subtraction, multiplication, and division. Compare the performance (time taken) of these operations on the lists versus the NumPy arrays using the time module."
   ]
  },
  {
   "cell_type": "markdown",
   "id": "b433af1c-15a6-48f1-a4af-2393f3383064",
   "metadata": {},
   "source": [
    "3. Create the following arrays using NumPy functions:\n",
    "\n",
    "(a) A 3x3 identity matrix.\n",
    "(b) A 5x5 matrix filled with the value 7.\n",
    "(c) A 4x4 checkerboard pattern matrix with alternating 0s and 1s, starting with 0 in the top-left corner."
   ]
  },
  {
   "cell_type": "markdown",
   "id": "0875e26d-07d3-4f64-816f-76fad1c86e8f",
   "metadata": {},
   "source": [
    "4. Create a 2D NumPy array of size 6x4 filled with random floating-point numbers between 0 and 1. Inspect the array and print:\n",
    "\n",
    "(a) Its shape\n",
    "(b) Its number of dimensions\n",
    "(c) The data type of the elements\n",
    "(d) The size (in bytes) of each element\n",
    "(e) The total number of elements"
   ]
  },
  {
   "cell_type": "markdown",
   "id": "e4b72a6c-ea76-47ec-954d-ca7381e08b1b",
   "metadata": {},
   "source": [
    "5. Create the following using NumPy functions:\n",
    "(a) Create a 4x4 identity matrix using np.eye().\n",
    "(b) Generate a linearly spaced array between 0 and 10 with 11 elements using np.linspace().\n",
    "(c) Inspect the shape, data type, and number of dimensions of a given ndarray."
   ]
  }
 ],
 "metadata": {
  "kernelspec": {
   "display_name": "Python 3 (ipykernel)",
   "language": "python",
   "name": "python3"
  },
  "language_info": {
   "codemirror_mode": {
    "name": "ipython",
    "version": 3
   },
   "file_extension": ".py",
   "mimetype": "text/x-python",
   "name": "python",
   "nbconvert_exporter": "python",
   "pygments_lexer": "ipython3",
   "version": "3.12.4"
  }
 },
 "nbformat": 4,
 "nbformat_minor": 5
}
