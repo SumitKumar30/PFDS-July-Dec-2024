{
 "cells": [
  {
   "cell_type": "code",
   "execution_count": 39,
   "id": "3364e6f4-eadc-4214-8439-15d157f98864",
   "metadata": {},
   "outputs": [
    {
     "name": "stdout",
     "output_type": "stream",
     "text": [
      "[10 20 30 40 50]\n"
     ]
    }
   ],
   "source": [
    "import numpy as np\n",
    "arr = np.array((10,20,30,40,50))\n",
    "print(arr)"
   ]
  },
  {
   "cell_type": "code",
   "execution_count": 41,
   "id": "41b8636c-4406-423f-9497-91642e5f2181",
   "metadata": {},
   "outputs": [
    {
     "name": "stdout",
     "output_type": "stream",
     "text": [
      "[[1 2 3]\n",
      " [4 5 6]]\n"
     ]
    }
   ],
   "source": [
    "import numpy as np\n",
    "arr_2D = np.array([[1,2,3],[4,5,6]])\n",
    "print(arr_2D)"
   ]
  },
  {
   "cell_type": "code",
   "execution_count": 43,
   "id": "116c4601-6784-47ec-a4ee-79423e032087",
   "metadata": {},
   "outputs": [
    {
     "name": "stdout",
     "output_type": "stream",
     "text": [
      "[10. 20. 30. 40. 50.]\n"
     ]
    }
   ],
   "source": [
    "import numpy as np\n",
    "lst = [10, 20, 30, 40, 50]\n",
    "arr = np.array(lst, dtype = float)\n",
    "print(arr)"
   ]
  },
  {
   "cell_type": "code",
   "execution_count": 45,
   "id": "45e50afd-62c9-4467-86aa-af2ffd94a626",
   "metadata": {},
   "outputs": [
    {
     "name": "stdout",
     "output_type": "stream",
     "text": [
      "Data type of names is:  <U4\n",
      "Data type of names is:  datetime64[D]\n",
      "Data type of names is:  int32\n"
     ]
    }
   ],
   "source": [
    "import numpy as np\n",
    "names = np.array(['Tom', 'Anna', 'Lily'])\n",
    "joining_dates = np.array(['2007-06-01','2012-10-15','2012-12-01'], dtype='M')\n",
    "age = np.array([45,35,40])\n",
    "print('Data type of names is: ',names.dtype)\n",
    "print('Data type of names is: ',joining_dates.dtype)\n",
    "print('Data type of names is: ',age.dtype)"
   ]
  },
  {
   "cell_type": "code",
   "execution_count": 47,
   "id": "d8024af4-22b8-4f40-a286-8ef9d577e10a",
   "metadata": {},
   "outputs": [
    {
     "name": "stdout",
     "output_type": "stream",
     "text": [
      "['1' '2' '3' '4' '5']\n",
      "[1. 2. 3. 4. 5.]\n",
      "[1.+0.j 2.+0.j 3.+0.j 4.+0.j 5.+0.j]\n"
     ]
    }
   ],
   "source": [
    "import numpy as np\n",
    "int_arr = np.array([1,2,3,4,5])\n",
    "\n",
    "# Method 1 - create a new array\n",
    "str_arr = np.array(int_arr, dtype='U')\n",
    "print(str_arr)\n",
    "\n",
    "#Method 2 - use data type as function\n",
    "float_arr = np.float32(int_arr)\n",
    "print(float_arr)\n",
    "\n",
    "#Method 3 - Use astype() function\n",
    "cmplx_arr = int_arr.astype(complex)\n",
    "print(cmplx_arr)"
   ]
  },
  {
   "cell_type": "code",
   "execution_count": 49,
   "id": "8ac3660a-4424-4882-b769-3fc50b37ff55",
   "metadata": {},
   "outputs": [
    {
     "name": "stdout",
     "output_type": "stream",
     "text": [
      "Shape is: (3, 3)\n",
      "Ndim is: 2\n",
      "Size is: 9\n",
      "ItemSize is: 8\n",
      "[[1. 4. 7.]\n",
      " [2. 5. 8.]\n",
      " [3. 6. 9.]]\n"
     ]
    }
   ],
   "source": [
    "import numpy as np\n",
    "\n",
    "arr = np.array([[1,2,3],[4,5,6],[7,8,9]], dtype = float)\n",
    "\n",
    "#Shape \n",
    "print('Shape is:',arr.shape)\n",
    "\n",
    "#Ndim\n",
    "print('Ndim is:',arr.ndim)\n",
    "\n",
    "#Size\n",
    "print('Size is:',arr.size)\n",
    "\n",
    "#ItemSize\n",
    "print('ItemSize is:',arr.itemsize)\n",
    "\n",
    "#Transpose\n",
    "print(arr.T)"
   ]
  },
  {
   "cell_type": "markdown",
   "id": "3b65fb5b-d2ba-49c7-b6fa-36025e5ce308",
   "metadata": {},
   "source": [
    "Numpy - In-built Functions"
   ]
  },
  {
   "cell_type": "code",
   "execution_count": 53,
   "id": "1776c19f-c6ae-4b36-b0ea-e85967498b9a",
   "metadata": {},
   "outputs": [
    {
     "name": "stdout",
     "output_type": "stream",
     "text": [
      "[[-1785349776         384]\n",
      " [          0           0]\n",
      " [          1           0]]\n"
     ]
    }
   ],
   "source": [
    "import numpy as np\n",
    "\n",
    "#Create an empty 3 by 2 array\n",
    "empty_arr = np.empty([3,2], dtype = int)\n",
    "print(empty_arr)"
   ]
  },
  {
   "cell_type": "code",
   "execution_count": 55,
   "id": "565f2b5c-b996-4afa-9d92-a2ab726d04dc",
   "metadata": {},
   "outputs": [
    {
     "name": "stdout",
     "output_type": "stream",
     "text": [
      "[[0. 0.]\n",
      " [0. 0.]]\n",
      "[1 1 1 1 1]\n"
     ]
    }
   ],
   "source": [
    "import numpy as np\n",
    "\n",
    "#Create a 2 by 2 array initialized by 0\n",
    "zeros_arr = np.zeros([2,2])\n",
    "print(zeros_arr)\n",
    "\n",
    "#Create a one dimensional array initialized by 1\n",
    "ones_arr = np.ones(5, dtype = int)\n",
    "print(ones_arr)"
   ]
  },
  {
   "cell_type": "code",
   "execution_count": 57,
   "id": "5ea6c2ae-125b-41f6-8d82-e46e0e3048f0",
   "metadata": {},
   "outputs": [
    {
     "name": "stdout",
     "output_type": "stream",
     "text": [
      "[[10 10 10]\n",
      " [10 10 10]\n",
      " [10 10 10]]\n"
     ]
    }
   ],
   "source": [
    "import numpy as np\n",
    "\n",
    "#Create a 3 by 3 array initialized by 10\n",
    "\n",
    "full_arr = np.full([3,3], 10, dtype = int)\n",
    "print(full_arr)"
   ]
  },
  {
   "cell_type": "code",
   "execution_count": null,
   "id": "946c3abc-cf82-430e-9527-97cc0dd22e19",
   "metadata": {},
   "outputs": [],
   "source": []
  }
 ],
 "metadata": {
  "kernelspec": {
   "display_name": "Python 3 (ipykernel)",
   "language": "python",
   "name": "python3"
  },
  "language_info": {
   "codemirror_mode": {
    "name": "ipython",
    "version": 3
   },
   "file_extension": ".py",
   "mimetype": "text/x-python",
   "name": "python",
   "nbconvert_exporter": "python",
   "pygments_lexer": "ipython3",
   "version": "3.12.4"
  }
 },
 "nbformat": 4,
 "nbformat_minor": 5
}
