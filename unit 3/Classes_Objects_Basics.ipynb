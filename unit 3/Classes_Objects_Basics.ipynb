{
 "cells": [
  {
   "cell_type": "code",
   "execution_count": 1,
   "id": "3b5b125b-22a1-48a8-8093-386851b41362",
   "metadata": {
    "collapsed": true,
    "jupyter": {
     "outputs_hidden": true
    }
   },
   "outputs": [],
   "source": [
    "# consider an example\n",
    "employee1_name = \"Ji-Soo\"\n",
    "employee1_age = 38\n",
    "employee1_position = \"developer\"\n",
    "employee1_salary = 1200\n",
    "\n",
    "employee1_name = \"Lauren\"\n",
    "employee1_age = 44\n",
    "employee1_position = \"tester\"\n",
    "employee1_salary = 1000\n"
   ]
  },
  {
   "cell_type": "code",
   "execution_count": 7,
   "id": "31358675-b72f-4cd8-a090-81d9660d9d9d",
   "metadata": {
    "collapsed": true,
    "jupyter": {
     "outputs_hidden": true
    }
   },
   "outputs": [
    {
     "name": "stdout",
     "output_type": "stream",
     "text": [
      "Ji-Soos' salary is $1200\n",
      "Laurens' salary is $1000\n"
     ]
    }
   ],
   "source": [
    "# better solution to put all the employees together \n",
    "employee1 = [\"Ji-Soo\", 38, \"developer\", 1200]\n",
    "employee2 = [\"Lauren\", 44, \"tester\", 1000]\n",
    "\n",
    "employees = [employee1, employee2]\n",
    "\n",
    "for e in employees:\n",
    "    print(f\"{e[0]}s' salary is ${e[3]}\" )"
   ]
  },
  {
   "cell_type": "code",
   "execution_count": 9,
   "id": "1f685fd7-752b-4a0a-9a6d-41d7ef2b324a",
   "metadata": {
    "collapsed": true,
    "jupyter": {
     "outputs_hidden": true
    }
   },
   "outputs": [
    {
     "name": "stdout",
     "output_type": "stream",
     "text": [
      "Ji-Soos' salary is $1200\n",
      "Laurens' salary is $1000\n"
     ]
    }
   ],
   "source": [
    "# further better solution >>> organized data in dictionary\n",
    "employee1 = {\n",
    "    \"name\" : \"Ji-Soo\",\n",
    "    \"age\" : 38,\n",
    "    \"position\" : \"developer\",\n",
    "    \"salary\" : 1200\n",
    "}\n",
    "\n",
    "employee2 = {\n",
    "    \"name\" : \"Lauren\",\n",
    "    \"age\" : 44,\n",
    "    \"position\" : \"tester\",\n",
    "    \"salary\" : 1000\n",
    "}\n",
    "\n",
    "employees = [employee1, employee2]\n",
    "\n",
    "for e in employees:\n",
    "    print(f\"{e['name']}s' salary is ${e['salary']}\" )"
   ]
  },
  {
   "cell_type": "code",
   "execution_count": 11,
   "id": "da0e494f-4fbd-4c6b-9ec0-56a872ac1661",
   "metadata": {
    "collapsed": true,
    "jupyter": {
     "outputs_hidden": true
    }
   },
   "outputs": [
    {
     "name": "stdout",
     "output_type": "stream",
     "text": [
      "Ji-Soo is 38 years old. Employee is a developer with the salary of 1200\n",
      "Lauren is 44 years old. Employee is a tester with the salary of 1200.0\n"
     ]
    }
   ],
   "source": [
    "# adding some functionality\n",
    "\n",
    "def increase_salary(employee, percent):\n",
    "    employee['salary'] += employee['salary'] * (percent/100)\n",
    "\n",
    "def employee_info(employee):\n",
    "    print(f\"{employee['name']} is {employee['age']} years old. Employee is a {employee['position']} with the salary of {employee['salary']}\")\n",
    "\n",
    "increase_salary(employee2, 20)\n",
    "\n",
    "for e in employees:\n",
    "    employee_info(e)"
   ]
  },
  {
   "attachments": {},
   "cell_type": "markdown",
   "id": "fbf0d886-8b24-4e8a-80f2-36895aa8b8bd",
   "metadata": {},
   "source": [
    "## Classes & Objects\n",
    "![title](./creating_class.png)\n"
   ]
  },
  {
   "cell_type": "markdown",
   "id": "a3d8aa2a-ea95-478d-91fc-8f4e336e71d1",
   "metadata": {},
   "source": [
    "## Python and Objects\n",
    "#### Everything is an object in Python"
   ]
  },
  {
   "cell_type": "code",
   "execution_count": 1,
   "id": "c7b02f2a-ab07-41f8-b53b-55e79efd5803",
   "metadata": {
    "collapsed": true,
    "jupyter": {
     "outputs_hidden": true
    }
   },
   "outputs": [
    {
     "name": "stdout",
     "output_type": "stream",
     "text": [
      "<class 'str'>\n",
      "<class 'int'>\n",
      "<class 'list'>\n",
      "<class 'dict'>\n"
     ]
    }
   ],
   "source": [
    "# consider this example\n",
    "\n",
    "s = \"hello\"\n",
    "i = 2\n",
    "l = [1, 2, 3]\n",
    "d = {\"a\":2}\n",
    "\n",
    "print(s.__class__)\n",
    "print(i.__class__)\n",
    "print(l.__class__)\n",
    "print(d.__class__)"
   ]
  },
  {
   "cell_type": "code",
   "execution_count": 20,
   "id": "b961132b-823d-4980-863e-63cc61636995",
   "metadata": {
    "collapsed": true,
    "jupyter": {
     "outputs_hidden": true
    }
   },
   "outputs": [
    {
     "name": "stdout",
     "output_type": "stream",
     "text": [
      "<class 'str'>\n",
      "<class 'int'>\n"
     ]
    }
   ],
   "source": [
    "s = str(\"hello\")\n",
    "i = int(2)\n",
    "\n",
    "\n",
    "\n",
    "print(s.__class__)\n",
    "print(i.__class__)"
   ]
  },
  {
   "cell_type": "code",
   "execution_count": 24,
   "id": "0c0fa7d4-6a90-451b-b984-5fb337a4f250",
   "metadata": {
    "collapsed": true,
    "jupyter": {
     "outputs_hidden": true
    }
   },
   "outputs": [
    {
     "name": "stdout",
     "output_type": "stream",
     "text": [
      "<class 'str'>\n",
      "<class 'int'>\n"
     ]
    }
   ],
   "source": [
    "print(\"hello\".__class__)\n",
    "print(int(2).__class__)"
   ]
  },
  {
   "cell_type": "markdown",
   "id": "68652f36-d40d-453a-9ded-b8b0acbd2992",
   "metadata": {},
   "source": [
    "## Instantiating Classes"
   ]
  },
  {
   "cell_type": "code",
   "execution_count": 41,
   "id": "0ce46e92-0131-4fd7-a265-9f83acf3af5b",
   "metadata": {},
   "outputs": [
    {
     "name": "stdout",
     "output_type": "stream",
     "text": [
      "<__main__.Employee object at 0x0000019D21B98560>\n",
      "{}\n"
     ]
    }
   ],
   "source": [
    "class Employee:\n",
    "    pass\n",
    "\n",
    "e = Employee()\n",
    "print(e)\n",
    "print(e.__dict__)"
   ]
  },
  {
   "attachments": {
    "9b29e4e5-e662-4f77-9045-d55466b00c22.png": {
     "image/png": "[encoded data removed]"
    }
   },
   "cell_type": "markdown",
   "id": "ede3f78c-e7aa-42ea-ba59-fb33d7b6bbf7",
   "metadata": {},
   "source": [
    "## Class Functions for Constructing an Object\n",
    "\n",
    "![image.png](attachment:9b29e4e5-e662-4f77-9045-d55466b00c22.png)"
   ]
  },
  {
   "cell_type": "code",
   "execution_count": 39,
   "id": "d2961c01-4f46-49bb-9528-77156f7b12c2",
   "metadata": {},
   "outputs": [
    {
     "name": "stdout",
     "output_type": "stream",
     "text": [
      "{'name': 'Ji-Soo', 'age': 38, 'position': 'developer', 'salary': 1200}\n"
     ]
    }
   ],
   "source": [
    "class Employee:\n",
    "    def __init__(self):\n",
    "        self.__dict__[\"name\"] = \"Ji-Soo\"\n",
    "        self.__dict__[\"age\"] = 38\n",
    "        self.__dict__[\"position\"] = \"developer\"\n",
    "        self.__dict__[\"salary\"] = 1200\n",
    "\n",
    "e = Employee()\n",
    "print(e.__dict__)"
   ]
  },
  {
   "cell_type": "code",
   "execution_count": 43,
   "id": "4014abe5-f19e-49c7-b1a1-f3cd5b94417e",
   "metadata": {},
   "outputs": [
    {
     "name": "stdout",
     "output_type": "stream",
     "text": [
      "Ji-Soo\n",
      "<class '__main__.Employee'>\n"
     ]
    }
   ],
   "source": [
    "class Employee:\n",
    "    def __init__(self):\n",
    "        self.name = \"Ji-Soo\"\n",
    "        self.age = 38\n",
    "        self.position = \"developer\"\n",
    "        self.salary = 1200\n",
    "\n",
    "\n",
    "e = Employee()\n",
    "print(e.name)\n",
    "print(e.__class__)"
   ]
  },
  {
   "cell_type": "code",
   "execution_count": 45,
   "id": "0a6deba6-9232-4f28-b54a-0699bddf529a",
   "metadata": {},
   "outputs": [
    {
     "name": "stdout",
     "output_type": "stream",
     "text": [
      "Ji-Soo\n",
      "Lauren\n"
     ]
    }
   ],
   "source": [
    "class Employee:\n",
    "    def __init__(self, name, age, position, salary):\n",
    "        self.name = name\n",
    "        self.age = age\n",
    "        self.position = position\n",
    "        self.salary = salary\n",
    "\n",
    "\n",
    "employee1 = Employee(\"Ji-Soo\", 38, \"developer\", 1200)\n",
    "employee2 = Employee(\"Lauren\", 44, \"tester\", 1000)\n",
    "print(employee1.name)\n",
    "print(employee2.name)\n"
   ]
  },
  {
   "cell_type": "code",
   "execution_count": 51,
   "id": "4dc3bce9-522b-4aa9-ac82-9150a60fa648",
   "metadata": {},
   "outputs": [
    {
     "name": "stdout",
     "output_type": "stream",
     "text": [
      "Lauren is 44 years old. Employee is a tester with the salary of $1200.0\n"
     ]
    }
   ],
   "source": [
    "class Employee:\n",
    "    def __init__(self, name, age, position, salary):\n",
    "        self.name = name\n",
    "        self.age = age\n",
    "        self.position = position\n",
    "        self.salary = salary\n",
    "\n",
    "    # def increase_salary(employee, percent):\n",
    "    #     employee.salary += employee.salary * (percent/100)\n",
    "\n",
    "    # def employee_info(employee):\n",
    "    #     print(f\"{employee.name} is {employee.age} years old. Employee is a {employee.position} with the salary of ${employee.salary}\")\n",
    "\n",
    "    def increase_salary(self, percent):\n",
    "        self.salary += self.salary * (percent/100)\n",
    "\n",
    "    def info(self):\n",
    "        print(f\"{self.name} is {self.age} years old. Employee is a {self.position} with the salary of ${self.salary}\")\n",
    "\n",
    "\n",
    "employee1 = Employee(\"Ji-Soo\", 38, \"developer\", 1200)\n",
    "employee2 = Employee(\"Lauren\", 44, \"tester\", 1000)\n",
    "employee2.increase_salary(20)\n",
    "employee2.info()\n",
    "\n",
    "# Employee.increase_salary(employee2, 20)\n",
    "# Employee.employee_info(employee2)\n"
   ]
  },
  {
   "cell_type": "markdown",
   "id": "0995ec97-b6b0-4c29-963d-e423d1079d8f",
   "metadata": {},
   "source": [
    "### Turning Instances to Strings"
   ]
  },
  {
   "cell_type": "code",
   "execution_count": 34,
   "id": "29cd0d4f-878d-472d-9eef-766f8e74c319",
   "metadata": {
    "collapsed": true,
    "jupyter": {
     "outputs_hidden": true
    }
   },
   "outputs": [
    {
     "name": "stdout",
     "output_type": "stream",
     "text": [
      "Lauren is 44 years old. Employee is a tester with the salary of $1000\n"
     ]
    }
   ],
   "source": [
    "class Employee:\n",
    "    def __init__(self, name, age, position, salary):\n",
    "        self.name = name\n",
    "        self.age = age\n",
    "        self.position = position\n",
    "        self.salary = salary\n",
    "\n",
    "    def increase_salary(self, percent):\n",
    "        self.salary += self.salary * (percent/100)\n",
    "\n",
    "    def __str__(self):\n",
    "        return f\"{self.name} is {self.age} years old. Employee is a {self.position} with the salary of ${self.salary}\"\n",
    "\n",
    "\n",
    "employee1 = Employee(\"Ji-Soo\", 38, \"developer\", 1200)\n",
    "employee2 = Employee(\"Lauren\", 44, \"tester\", 1000)\n",
    "print(employee2)\n",
    "#print(str(employee1))\n"
   ]
  },
  {
   "cell_type": "code",
   "execution_count": 37,
   "id": "ff2c2ce6-9400-4ec0-bb75-12c85073163b",
   "metadata": {},
   "outputs": [
    {
     "name": "stdout",
     "output_type": "stream",
     "text": [
      "2000\n"
     ]
    }
   ],
   "source": [
    "class Employee:\n",
    "    def __init__(self, name, age, position, salary):\n",
    "        self.name = name\n",
    "        self.age = age\n",
    "        self.position = position\n",
    "        self.set_salary(salary)\n",
    "\n",
    "    def increase_salary(self, percent):\n",
    "        self.salary += self.salary * (percent/100)\n",
    "\n",
    "    def __str__(self):\n",
    "        return f\"{self.name} is {self.age} years old. Employee is a {self.position} with the salary of ${self.salary}\"\n",
    "\n",
    "    def get_salary(self):\n",
    "        return self.salary\n",
    "\n",
    "    def set_salary(self, salary):\n",
    "        if salary < 1000:\n",
    "            raise ValueError('Minimum wage is $1000')\n",
    "        self.salary = salary\n",
    "\n",
    "\n",
    "employee1 = Employee(\"Ji-Soo\", 38, \"developer\", 1200)\n",
    "employee2 = Employee(\"Lauren\", 44, \"tester\", 1000)\n",
    "\n",
    "employee1.set_salary(2000)\n",
    "print(employee1.get_salary())\n",
    "\n",
    "# user_input = int(input(\"Input salary: \"))\n",
    "# if user_input < 1000:\n",
    "#     raise ValueError('Minimum wage is $1000')\n",
    "# else:\n",
    "#     employee1.salary = user_input\n"
   ]
  },
  {
   "cell_type": "markdown",
   "id": "50c981b7-f15c-4a3f-a039-e3a1864feb54",
   "metadata": {
    "collapsed": true,
    "jupyter": {
     "outputs_hidden": true
    }
   },
   "source": [
    "#### Problem 1\n",
    "\n",
    "Create a class called Product with the following attributes and methods:\n",
    "\n",
    "Attributes:\n",
    "\n",
    "1. name: The name of the product.\n",
    "2. price: The price of the product.\n",
    "3. quantity: The available quantity of the product.\n",
    "   \n",
    "Methods:\n",
    "1. buy(self, amount): Reduce the quantity of the product by amount if there are enough in stock; otherwise, print an \"Out of stock\" message.\n",
    "2. restock(self, amount): Increase the quantity of the product by amount.\n",
    "3. display_info(self): Print the product's details."
   ]
  },
  {
   "cell_type": "markdown",
   "id": "4d1e50fe-2f14-4351-a101-588165810bdb",
   "metadata": {},
   "source": [
    "### Attribute Restriction"
   ]
  },
  {
   "cell_type": "code",
   "execution_count": 25,
   "id": "bf2d72b3-8a51-49d3-9b03-0d45ab5ef3a0",
   "metadata": {},
   "outputs": [
    {
     "name": "stdout",
     "output_type": "stream",
     "text": [
      "2000\n",
      "Ji-Soo\n"
     ]
    }
   ],
   "source": [
    "class Employee:\n",
    "    def __init__(self, name, age, position, salary):\n",
    "        self.__name = name\n",
    "        self.age = age\n",
    "        self.position = position\n",
    "        self.set_salary(salary)\n",
    "\n",
    "    def increase_salary(self, percent):\n",
    "        self._salary += self._salary * (percent/100)\n",
    "\n",
    "    def __str__(self):\n",
    "        return f\"{self.name} is {self.age} years old. Employee is a {self.position} with the salary of ${self._salary}\"\n",
    "\n",
    "    def get_salary(self):\n",
    "        # return self.__salary\n",
    "        return self._salary\n",
    "\n",
    "    def get_name(self):\n",
    "        return self.__name\n",
    "\n",
    "    def set_salary(self, salary):\n",
    "        if salary < 1000:\n",
    "            raise ValueError('Minimum wage is $1000')\n",
    "        # self.__salary = salary\n",
    "        self._salary = salary\n",
    "\n",
    "\n",
    "employee1 = Employee(\"Ji-Soo\", 38, \"developer\", 1200)\n",
    "employee2 = Employee(\"Lauren\", 44, \"tester\", 1000)\n",
    "\n",
    "employee1.set_salary(2000)\n",
    "print(employee1.get_salary())\n",
    "print(employee1.get_name())\n",
    "# print(employee1._salary)\n",
    "# print(employee1._Employee__salary)\n"
   ]
  },
  {
   "cell_type": "markdown",
   "id": "f89bd4ae-f133-44fb-83ea-9ed780c8ad96",
   "metadata": {},
   "source": [
    "#### Problem 2\n",
    "\n",
    "Create a class called Book with the following attributes and methods:\n",
    "\n",
    "Attributes:\n",
    "\n",
    "1. title: The title of the book.\n",
    "2. author: The author of the book.\n",
    "3. isbn: The ISBN number of the book.\n",
    "4. is_borrowed: A boolean attribute that indicates if the book is currently borrowed.\n",
    "\n",
    "Methods:\n",
    "\n",
    "1. borrow_book(self): If the book is not already borrowed, set is_borrowed to True. If the book is already borrowed, print a message indicating that the book is currently unavailable.\n",
    "2. return_book(self): If the book is borrowed, set is_borrowed to False. If the book is not borrowed, print a message indicating that the book is already in the library."
   ]
  },
  {
   "cell_type": "markdown",
   "id": "7a38a7df-353d-40dd-9e7b-e947dc827760",
   "metadata": {},
   "source": [
    "#### Problem 3\n",
    "\n",
    "Create a class MovieTicket with the following attributes and methods:\n",
    "\n",
    "Attributes:\n",
    "\n",
    "1. movie_name: The name of the movie.\n",
    "2. show_time: The time the movie is showing.\n",
    "3. regular_seats: The number of regular seats available.\n",
    "4. vip_seats: The number of VIP seats available.\n",
    "5. vip_price: The price for a VIP ticket.\n",
    "6. regular_price: The price for a regular ticket.\n",
    "\n",
    "Methods:\n",
    "\n",
    "1. book_ticket(self, number_of_tickets, vip=False): If vip is False, book regular seats, otherwise book VIP seats. If the requested number of seats is available, reduce the seats accordingly and print a confirmation message along with the total price. If not enough seats are available, print an appropriate message.\n",
    "2. cancel_ticket(self, number_of_tickets, vip=False): Increase the seats by the number of canceled tickets for either regular or VIP seats.\n",
    "3. display_info(self): Print the movie name, show time, number of available regular seats, and VIP seats."
   ]
  },
  {
   "cell_type": "markdown",
   "id": "eeab8dd2-af73-4173-a156-5ca5bb8acc0a",
   "metadata": {},
   "source": [
    "#### Problem 4\n",
    "\n",
    "Create a class BudgetTracker with the following attributes and methods:\n",
    "\n",
    "Attributes:\n",
    "\n",
    "1. month: The month for which the budget is tracked.\n",
    "2. expenses: A dictionary where the keys are expense categories (e.g., \"Groceries\", \"Rent\") and the values are amounts spent.\n",
    "3. limits: A dictionary where the keys are expense categories and the values are the spending limits for each category.\n",
    "\n",
    "Methods:\n",
    "\n",
    "1. add_expense(self, category, amount): Add or update an expense for a specific category. Check if the expense exceeds the category limit and print an alert if it does.\n",
    "2. set_limit(self, category, limit): Set a spending limit for a specific category.\n",
    "3. calculate_total_expenses(self): Calculate and return the total amount spent across all categories.\n",
    "4. display_expenses(self): Print all expenses by category and the total spending, and display alerts for any categories that exceed the limit."
   ]
  },
  {
   "cell_type": "markdown",
   "id": "d2f1a346-06b5-4c22-b14a-aeb10a72c149",
   "metadata": {},
   "source": [
    "#### Problem 5\n",
    "\n",
    "**Write a Python class named Stock to represent a company’s stock which calculates the change in price in Stocks from previous closing price to current Pricethat contains:<br><br>**\n",
    "•\tA private string data field named *symbol* for the stock’s symbol. <br>\n",
    "•\tA private string data field named *name* for the stock’s name. <br>\n",
    "•\t A private float data field named *previousClosingPrice* that stores the stock price for the previous day. <br>\n",
    "•\t A private float data field named *currentPrice* that stores the stock price for the current time.<br> \n",
    "•\t A constructor that creates a stock with the specified symbol, name, previous price, and current price.<br> \n",
    "•\t A get method for returning the stock name.<br> \n",
    "•\t A get method for returning the stock symbol. <br>\n",
    "•\t Get and set methods for getting/setting the stock’s previous price.<br> \n",
    "•\t Get and set methods for getting/setting the stock’s current price. <br>\n",
    "•\t A method named **getChangePercent()** that returns the percentage changed from previousClosingPrice to currentPrice."
   ]
  },
  {
   "cell_type": "code",
   "execution_count": null,
   "id": "07895704-a669-4b8d-8052-8c817c17ab7a",
   "metadata": {},
   "outputs": [],
   "source": []
  }
 ],
 "metadata": {
  "kernelspec": {
   "display_name": "Python 3 (ipykernel)",
   "language": "python",
   "name": "python3"
  },
  "language_info": {
   "codemirror_mode": {
    "name": "ipython",
    "version": 3
   },
   "file_extension": ".py",
   "mimetype": "text/x-python",
   "name": "python",
   "nbconvert_exporter": "python",
   "pygments_lexer": "ipython3",
   "version": "3.12.4"
  }
 },
 "nbformat": 4,
 "nbformat_minor": 5
}
