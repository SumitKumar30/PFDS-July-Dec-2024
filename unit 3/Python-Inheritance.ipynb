{
 "cells": [
  {
   "cell_type": "markdown",
   "id": "eefe5980-8683-45ce-8f48-a20e3f4defcc",
   "metadata": {},
   "source": [
    "#### Vehicle Rental System"
   ]
  },
  {
   "cell_type": "markdown",
   "id": "1d33a1a5-ebd0-4e86-b0fd-9a7a7eee63dc",
   "metadata": {},
   "source": [
    "Scenario: You are designing a vehicle rental system for a car rental company. There are different types of vehicles such as Cars, Bikes, and Trucks. Each vehicle has common attributes like brand, model, and rental_price_per_day. However, different types of vehicles have unique attributes such as num_doors for cars, engine_capacity for bikes, and cargo_capacity for trucks.\n",
    "\n",
    "Task:\n",
    "\n",
    "Implement a base class Vehicle and create subclasses Car, Bike, and Truck that inherit from the Vehicle class. Write a function in each subclass that returns specific information about the vehicle type and its unique attribute(s). Demonstrate the use of inheritance by creating instances of each subclass and printing their details."
   ]
  },
  {
   "cell_type": "markdown",
   "id": "1317f089-d8e5-4150-a9da-9cb9ad1a2711",
   "metadata": {},
   "source": [
    "#### Multiple Inheritance: Vehicle and Insurance System"
   ]
  },
  {
   "cell_type": "markdown",
   "id": "b697f278-7486-43b1-b1ae-1b69dd8cd42e",
   "metadata": {},
   "source": [
    "Scenario: In a vehicle insurance system, a Vehicle can have attributes like brand and model. Similarly, an Insurance can have attributes like insurance_company and coverage_amount. A class InsuredVehicle inherits properties from both Vehicle and Insurance.\n",
    "\n",
    "Task:\n",
    "\n",
    "Create a base class Vehicle with attributes brand and model.\n",
    "Create another base class Insurance with attributes insurance_company and coverage_amount.\n",
    "Create a subclass InsuredVehicle that inherits from both Vehicle and Insurance.\n",
    "Implement methods in both base classes to display their respective information.\n",
    "Use super() in InsuredVehicle to call the methods of both parent classes.\n",
    "Demonstrate multiple inheritance by creating an instance of InsuredVehicle and displaying the combined information of the vehicle and insurance."
   ]
  },
  {
   "cell_type": "markdown",
   "id": "1980e797-f4b2-4f8c-bb1b-26914fa0a661",
   "metadata": {},
   "source": [
    "#### Multilevel Inheritance with super(): Banking System"
   ]
  },
  {
   "cell_type": "markdown",
   "id": "e650bcff-2d7e-4b45-96c8-b1a8b93fce85",
   "metadata": {},
   "source": [
    "Scenario: In a banking system, BankAccount is the base class, from which SavingsAccount is derived. Additionally, HighInterestSavingsAccount is derived from SavingsAccount and provides a higher interest rate.\n",
    "\n",
    "Task:\n",
    "\n",
    "Create a base class BankAccount with attributes account_number and balance, and a method deposit() to add money to the account.\n",
    "Create a subclass SavingsAccount that adds an attribute interest_rate and a method calculate_interest().\n",
    "Create another subclass HighInterestSavingsAccount that inherits from SavingsAccount and increases the interest rate.\n",
    "Use super() to call the calculate_interest() method in HighInterestSavingsAccount, but modify the interest rate before the calculation.\n",
    "Demonstrate multilevel inheritance by creating a HighInterestSavingsAccount object and showing how the interest is calculated with the modified rate."
   ]
  },
  {
   "cell_type": "code",
   "execution_count": null,
   "id": "e993e9ea-95e5-4da9-a686-f8e535c201ba",
   "metadata": {},
   "outputs": [],
   "source": []
  }
 ],
 "metadata": {
  "kernelspec": {
   "display_name": "Python 3 (ipykernel)",
   "language": "python",
   "name": "python3"
  },
  "language_info": {
   "codemirror_mode": {
    "name": "ipython",
    "version": 3
   },
   "file_extension": ".py",
   "mimetype": "text/x-python",
   "name": "python",
   "nbconvert_exporter": "python",
   "pygments_lexer": "ipython3",
   "version": "3.12.4"
  }
 },
 "nbformat": 4,
 "nbformat_minor": 5
}
