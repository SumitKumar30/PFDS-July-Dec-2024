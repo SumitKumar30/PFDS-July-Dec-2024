{
 "cells": [
  {
   "cell_type": "markdown",
   "id": "054d5cc3-48e1-4c8b-87a2-9de94f26e4e2",
   "metadata": {},
   "source": [
    "### Object Oriented Programming (Unit 3) - Class Exercise"
   ]
  },
  {
   "cell_type": "markdown",
   "id": "5a8e59fe-0b85-49a1-b78e-80c82670b00b",
   "metadata": {},
   "source": [
    "1. Write a Python program to create a Vehicle class with max_speed and mileage instance attributes."
   ]
  },
  {
   "cell_type": "code",
   "execution_count": null,
   "id": "2c6f3c88-8316-4400-98b1-abd5ab467adc",
   "metadata": {
    "jupyter": {
     "source_hidden": true
    }
   },
   "outputs": [],
   "source": [
    "class Vehicle:\n",
    "    def __init__(self, max_speed, mileage):\n",
    "        self.max_speed = max_speed\n",
    "        self.mileage = mileage\n",
    "\n",
    "modelX = Vehicle(240, 18)\n",
    "print(modelX.max_speed, modelX.mileage)"
   ]
  },
  {
   "cell_type": "markdown",
   "id": "e1a51a3f-cac2-46f2-be17-b8b09d3cad92",
   "metadata": {},
   "source": [
    "2. Create a Vehicle class without any variables and methods"
   ]
  },
  {
   "cell_type": "code",
   "execution_count": null,
   "id": "a6b15b31-615a-477c-8b7d-74579b20f7d2",
   "metadata": {
    "jupyter": {
     "source_hidden": true
    }
   },
   "outputs": [],
   "source": [
    "class Vehicle:\n",
    "    pass"
   ]
  },
  {
   "cell_type": "markdown",
   "id": "d6d14919-0c7a-4061-ab79-b930bf301c81",
   "metadata": {},
   "source": [
    "3. Create a child class Bus that will inherit all of the variables and methods of the Vehicle class\n",
    "\n",
    "class Vehicle:\r\n",
    "\r\n",
    "    def __init__(self, name, max_speed, mileage):\r\n",
    "        self.name = name\r\n",
    "        self.max_speed = max_speed\r\n",
    "        self.mileage = mileage"
   ]
  },
  {
   "cell_type": "code",
   "execution_count": null,
   "id": "5df0729f-60cf-405b-a8c7-45f7836665a5",
   "metadata": {},
   "outputs": [],
   "source": [
    "class Vehicle:\n",
    "\n",
    "    def __init__(self, name, max_speed, mileage):\n",
    "        self.name = name\n",
    "        self.max_speed = max_speed\n",
    "        self.mileage = mileage\n",
    "\n",
    "class Bus(Vehicle):\n",
    "    pass\n",
    "\n",
    "School_bus = Bus(\"School Volvo\", 180, 12)\n",
    "print(\"Vehicle Name:\", School_bus.name, \"Speed:\", School_bus.max_speed, \"Mileage:\", School_bus.mileage)"
   ]
  },
  {
   "cell_type": "markdown",
   "id": "0f4f98e0-097b-4215-afa0-d460c40a116e",
   "metadata": {},
   "source": [
    "##### Class Inheritance\n",
    "\n",
    "4. Create a Bus class that inherits from the Vehicle class. Give the capacity argument of Bus.seating_capacity() a default value of 50.\r\n",
    "\r\n",
    "Use the following code for your parent Vehicle clas\n",
    "\n",
    "class Vehicle:\r\n",
    "    def __init__(self, name, max_speed, mileage):\r\n",
    "        self.name = name\r\n",
    "        self.max_speed = max_speed\r\n",
    "        self.mileage = mileage\r\n",
    "\r\n",
    "    def seating_capacity(self, capacity):\r\n",
    "        return f\"The seating capacity of a {self.name} is {capacity} passengers\"s."
   ]
  },
  {
   "cell_type": "code",
   "execution_count": null,
   "id": "990917c7-24a4-4edf-af79-ed0fb41de989",
   "metadata": {},
   "outputs": [],
   "source": [
    "class Vehicle:\n",
    "    def __init__(self, name, max_speed, mileage):\n",
    "        self.name = name\n",
    "        self.max_speed = max_speed\n",
    "        self.mileage = mileage\n",
    "\n",
    "    def seating_capacity(self, capacity):\n",
    "        return f\"The seating capacity of a {self.name} is {capacity} passengers\"\n",
    "\n",
    "class Bus(Vehicle):\n",
    "    # assign default value to capacity\n",
    "    def seating_capacity(self, capacity=50):\n",
    "        return super().seating_capacity(capacity=50)\n",
    "\n",
    "School_bus = Bus(\"School Volvo\", 180, 12)\n",
    "print(School_bus.seating_capacity())\n"
   ]
  },
  {
   "cell_type": "markdown",
   "id": "064bfef5-c596-479d-8d91-0bb7bf1ac9c1",
   "metadata": {},
   "source": [
    "5. Define a property that must have the same value for every class instance (object).\n",
    "   Use the following code:\n",
    "\n",
    "class Vehicle:\r\n",
    "\r\n",
    "    def __init__(self, name, max_speed, mileage):\r\n",
    "        self.name = name\r\n",
    "        self.max_speed = max_speed\r\n",
    "        self.mileage = mileage\r\n",
    "\r\n",
    "class Bus(Vehicle):\r\n",
    "    pass\r\n",
    "\r\n",
    "class Car(Vehicle):\r\n",
    "    pass"
   ]
  },
  {
   "cell_type": "code",
   "execution_count": null,
   "id": "8b9871d1-3067-412f-8ed0-27db87361fba",
   "metadata": {},
   "outputs": [],
   "source": [
    "class Vehicle:\n",
    "    # Class attribute\n",
    "    color = \"White\"\n",
    "\n",
    "    def __init__(self, name, max_speed, mileage):\n",
    "        self.name = name\n",
    "        self.max_speed = max_speed\n",
    "        self.mileage = mileage\n",
    "\n",
    "class Bus(Vehicle):\n",
    "    pass\n",
    "\n",
    "class Car(Vehicle):\n",
    "    pass\n",
    "\n",
    "School_bus = Bus(\"School Volvo\", 180, 12)\n",
    "print(School_bus.color, School_bus.name, \"Speed:\", School_bus.max_speed, \"Mileage:\", School_bus.mileage)\n",
    "\n",
    "car = Car(\"Audi Q5\", 240, 18)\n",
    "print(car.color, car.name, \"Speed:\", car.max_speed, \"Mileage:\", car.mileage)"
   ]
  },
  {
   "cell_type": "markdown",
   "id": "6a83f606-4532-4bd6-a251-f4d2402be61e",
   "metadata": {},
   "source": [
    "##### More on Class Attributes/Class Variables"
   ]
  },
  {
   "cell_type": "code",
   "execution_count": null,
   "id": "e6670ae5-fb80-4efc-b972-34e04253df14",
   "metadata": {},
   "outputs": [],
   "source": [
    "# Python program to show that the variables with a value \n",
    "# assigned in class declaration, are class variables\n",
    "\n",
    "# Class for Computer Science Student\n",
    "class CSStudent:\n",
    "    stream = 'cse'                  # Class Variable\n",
    "    def __init__(self,name,roll):\n",
    "        self.name = name            # Instance Variable\n",
    "        self.roll = roll            # Instance Variable\n",
    "\n",
    "# Objects of CSStudent class\n",
    "a = CSStudent('Geek', 1)\n",
    "b = CSStudent('Nerd', 2)\n",
    "\n",
    "print(a.stream)  # prints \"cse\"\n",
    "print(b.stream)  # prints \"cse\"\n",
    "print(a.name)    # prints \"Geek\"\n",
    "print(b.name)    # prints \"Nerd\"\n",
    "print(a.roll)    # prints \"1\"\n",
    "print(b.roll)    # prints \"2\"\n",
    "\n",
    "# Class variables can be accessed using class\n",
    "# name also\n",
    "print(CSStudent.stream) # prints \"cse\"\n",
    "\n",
    "# Now if we change the stream for just a it won't be changed for b\n",
    "a.stream = 'ece'\n",
    "print(a.stream) # prints 'ece'\n",
    "print(b.stream) # prints 'cse'\n",
    "\n",
    "# To change the stream for all instances of the class we can change it \n",
    "# directly from the class\n",
    "CSStudent.stream = 'mech'\n",
    "\n",
    "print(a.stream) # prints 'ece'\n",
    "print(b.stream) # prints 'mech'\n"
   ]
  },
  {
   "cell_type": "markdown",
   "id": "c1237090-cba2-44f2-8b83-3296def1cd49",
   "metadata": {},
   "source": [
    "##### Class Inheritance\n",
    "\n",
    "6. Create a Bus child class that inherits from the Vehicle class. The default fare charge of any vehicle is seating capacity * 100. If Vehicle is Bus instance, we need to add an extra 10% on full fare as a maintenance charge. So total fare for bus instance will become the final amount = total fare + 10% of the total fare.\n",
    "\n",
    "Use the following code for your parent Vehicle class. We need to access the parent class from inside a method of a child class.\n",
    "\n",
    "class Vehicle:\r\n",
    "    def __init__(self, name, mileage, capacity):\r\n",
    "        self.name = name\r\n",
    "        self.mileage = mileage\r\n",
    "        self.capacity = capacity\r\n",
    "\r\n",
    "    def fare(self):\r\n",
    "        return self.capacity * 100\r\n",
    "\r\n",
    "class Bus(Vehicle):\r\n",
    "    pass\r\n",
    "\r\n",
    "School_bus = Bus(\"School Volvo\", 12, 50)\r\n",
    "print(\"Total Bus fare is:\", School_bus.fare())"
   ]
  },
  {
   "cell_type": "code",
   "execution_count": null,
   "id": "c06824b4-a084-4752-8885-75275568d34f",
   "metadata": {},
   "outputs": [],
   "source": [
    "class Vehicle:\n",
    "    def __init__(self, name, mileage, capacity):\n",
    "        self.name = name\n",
    "        self.mileage = mileage\n",
    "        self.capacity = capacity\n",
    "\n",
    "    def fare(self):\n",
    "        return self.capacity * 100\n",
    "\n",
    "class Bus(Vehicle):\n",
    "    def fare(self):\n",
    "        amount = super().fare()\n",
    "        amount += amount * 10 / 100\n",
    "        return amount\n",
    "\n",
    "School_bus = Bus(\"School Volvo\", 12, 50)\n",
    "print(\"Total Bus fare is:\", School_bus.fare())\n"
   ]
  },
  {
   "cell_type": "markdown",
   "id": "643b9ef7-13ee-4f9c-b581-7a88e2594be3",
   "metadata": {},
   "source": [
    "##### Abstraction in Python\n",
    "\n",
    "7. Write a program to demonstrate abstraction in python"
   ]
  },
  {
   "cell_type": "code",
   "execution_count": null,
   "id": "d0d4208b-090c-4367-bbf2-b293b588e345",
   "metadata": {},
   "outputs": [],
   "source": [
    "#Abstract Class\n",
    "class Vehicle:\n",
    "    def acclerate(self,name):\n",
    "        pass\n",
    "    def park(self,name):\n",
    "        pass\n",
    " \n",
    "class Bike(Vehicle):\n",
    "    def acclerate(self, name):\n",
    "        print(name,\"is accelrating @ 60kmph\")\n",
    "    def park(self, name):\n",
    "        print(name,\"is parked at two wheeler parking\")\n",
    " \n",
    "class Car(Vehicle):\n",
    "    def acclerate(self, name):\n",
    "        print(name,\"is accelrating @ 90kmph\")\n",
    "    def park(self, name):\n",
    "        print(name,\"is parked at four wheeler parking\")\n",
    " \n",
    " \n",
    "c = Car()\n",
    "c.acclerate(\"Car\")\n",
    "c.park(\"Car\")\n",
    " \n",
    "b=Bike()\n",
    "b.acclerate(\"Bike\")\n",
    "b.park(\"Bike\")"
   ]
  },
  {
   "cell_type": "code",
   "execution_count": null,
   "id": "35bf466d-78b1-4069-a3d9-1b3e7c86ed81",
   "metadata": {},
   "outputs": [],
   "source": [
    "# Import required modules\n",
    "from abc import ABC, abstractmethod\n",
    "\n",
    "# Create Abstract base class\n",
    "class Car(ABC):\n",
    "    def __init__(self, brand, model, year):\n",
    "        self.brand = brand\n",
    "        self.model = model\n",
    "        self.year = year\n",
    "    \n",
    "    # Create abstract method      \n",
    "    @abstractmethod\n",
    "    def printDetails(self):\n",
    "        pass\n",
    "  \n",
    "    # Create concrete method\n",
    "    def accelerate(self):\n",
    "        print(\"Speed up ...\")\n",
    "  \n",
    "    def break_applied(self):\n",
    "        print(\"Car stopped\")\n",
    "\n",
    "# Create a child class\n",
    "class Hatchback(Car):\n",
    "    def printDetails(self):\n",
    "        print(\"Brand:\", self.brand)\n",
    "        print(\"Model:\", self.model)\n",
    "        print(\"Year:\", self.year)\n",
    "  \n",
    "    def sunroof(self):\n",
    "        print(\"Not having this feature\")\n",
    "\n",
    "# Create a child class\n",
    "class Suv(Car):\n",
    "    def printDetails(self):\n",
    "        print(\"Brand:\", self.brand)\n",
    "        print(\"Model:\", self.model)\n",
    "        print(\"Year:\", self.year)\n",
    "  \n",
    "    def sunroof(self):\n",
    "        print(\"Available\")\n",
    "\n",
    "# Create an instance of the Hatchback class\n",
    "car1 = Hatchback(\"Maruti\", \"Alto\", \"2022\")\n",
    "\n",
    "# Call methods\n",
    "car1.printDetails()\n",
    "car1.accelerate()\n",
    "car1.sunroof()\n"
   ]
  },
  {
   "cell_type": "markdown",
   "id": "d13d6062-d6fa-48d7-80d9-79d6472cbe8b",
   "metadata": {},
   "source": [
    "##### Multiple Inheritance in Python"
   ]
  },
  {
   "cell_type": "code",
   "execution_count": null,
   "id": "a6bd61e6-025a-4d06-a5c4-cac801ba2a45",
   "metadata": {},
   "outputs": [],
   "source": [
    "class PersonalInfo:\t# parent classe\n",
    "    def __init__(self, idn, name, gender, address, contact):\n",
    "        self.idn = idn\n",
    "        self.name = name\n",
    "        self.gender = gender\n",
    "        self.address = address\n",
    "        self.contact = contact\n",
    " \n",
    "    def display_personal_info(self):\n",
    "        print(\"Id :   \", self.idn)\n",
    "        print(\"Name : \", self.name)\n",
    "        print(\"Gender : \", self.gender)\n",
    "        print(\"Address : \", self.address)\n",
    "        print(\"Contact : \", self.contact)\n",
    " \n",
    "class AcademicInfo:\t# parent classe\n",
    "    def __init__(self, stream, year):\n",
    "        self.stream = stream\n",
    "        self.year = year\n",
    " \n",
    "    def display_academic_info(self):\n",
    "        print(\"Stream : \", self.stream)\n",
    "        print(\"Year :   \", self.year)\n",
    " \n",
    "class Student(PersonalInfo, AcademicInfo):\t#child class inheriting from both parent classes\n",
    "    def __init__(self, idn, name, gender, address, contact, stream, year):\n",
    "        # Call constructors of parent classes\n",
    "        PersonalInfo.__init__(self, idn, name, gender, address, contact)\n",
    "        AcademicInfo.__init__(self, stream, year)\n",
    " \n",
    "    def display_student_details(self):\n",
    "        self.display_personal_info()\n",
    "        self.display_academic_info()\n",
    " \n",
    "idn = input(\"Enter the ID : \")\n",
    "name = input(\"Enter the Name : \")\n",
    "gender = input(\"Enter the Gender : \")\n",
    "address = input(\"Enter the Address : \")\n",
    "contact = input(\"Enter the Contact : \")\n",
    "stream = input(\"Enter the Stream : \")\n",
    "year = input(\"Enter the Year : \")\n",
    " \n",
    "# Create a Student instance\n",
    "student = Student(idn, name, gender, address, contact, stream, year)\n",
    " \n",
    "# Display student details\n",
    "student.display_student_details()"
   ]
  },
  {
   "cell_type": "markdown",
   "id": "f0434053-7d62-477f-8f35-e06d2cdb952d",
   "metadata": {},
   "source": [
    "#### Practice Questions"
   ]
  },
  {
   "cell_type": "code",
   "execution_count": null,
   "id": "fa868a63-94f8-45ee-b906-73f9adc06f7c",
   "metadata": {},
   "outputs": [],
   "source": [
    "class A:\n",
    "    def __init__(self):\n",
    "        print(\"A init\")\n",
    "\n",
    "class B(A):\n",
    "    def __init__(self):\n",
    "        print(\"B init\")\n",
    "        super().__init__()\n",
    "\n",
    "b = B()\n"
   ]
  },
  {
   "cell_type": "code",
   "execution_count": 12,
   "id": "01c0f9ff-5bcb-49f0-9c54-e28870d40821",
   "metadata": {},
   "outputs": [
    {
     "name": "stdout",
     "output_type": "stream",
     "text": [
      "Y method\n",
      "[<class '__main__.A'>, <class '__main__.Y'>, <class '__main__.Z'>, <class '__main__.X'>, <class 'object'>]\n"
     ]
    }
   ],
   "source": [
    "class X:\n",
    "    def method(self):\n",
    "        print(\"X method\")\n",
    "\n",
    "class Y(X):\n",
    "    def method(self):\n",
    "        print(\"Y method\")\n",
    "\n",
    "class Z(X):\n",
    "    def method(self):\n",
    "        print(\"Z method\")\n",
    "\n",
    "class A(Y, Z):\n",
    "    pass\n",
    "\n",
    "a = A()\n",
    "a.method()\n",
    "print(A.mro())\n"
   ]
  },
  {
   "cell_type": "code",
   "execution_count": null,
   "id": "fb9cb608-2661-48ec-bf85-0553a6693e0e",
   "metadata": {},
   "outputs": [],
   "source": [
    "class Base:\n",
    "    x = 10\n",
    "\n",
    "class Derived(Base):\n",
    "    def __init__(self):\n",
    "        self.x = 20\n",
    "\n",
    "d = Derived()\n",
    "print(d.x)\n",
    "print(Derived.x)\n"
   ]
  },
  {
   "cell_type": "code",
   "execution_count": null,
   "id": "d9e67572-38c4-4e90-8d2d-a51f6bc5265d",
   "metadata": {},
   "outputs": [],
   "source": [
    "class A:\n",
    "    def method(self):\n",
    "        print(\"A method\")\n",
    "        # super().method()\n",
    "\n",
    "class B(A):\n",
    "    def method(self):\n",
    "        print(\"B method\")\n",
    "        super().method()\n",
    "\n",
    "class C(A):\n",
    "    def method(self):\n",
    "        print(\"C method\")\n",
    "        super().method()\n",
    "\n",
    "class D(B, C):\n",
    "    def method(self):\n",
    "        print(\"D method\")\n",
    "        super().method()\n",
    "\n",
    "d = D()\n",
    "d.method()\n"
   ]
  },
  {
   "cell_type": "code",
   "execution_count": null,
   "id": "ce881910-2c9e-4498-a374-e3d040cd1967",
   "metadata": {},
   "outputs": [],
   "source": [
    "class A:\n",
    "    x = 5\n",
    "\n",
    "class B(A):\n",
    "    x = 10\n",
    "\n",
    "class C(A):\n",
    "    x = 15\n",
    "\n",
    "class D(B, C):\n",
    "    pass\n",
    "\n",
    "d = D()\n",
    "print(d.x)\n"
   ]
  },
  {
   "cell_type": "code",
   "execution_count": null,
   "id": "08d5280e-af20-45c1-b7eb-d20ecb657c7c",
   "metadata": {
    "jupyter": {
     "source_hidden": true
    }
   },
   "outputs": [],
   "source": []
  }
 ],
 "metadata": {
  "kernelspec": {
   "display_name": "Python 3 (ipykernel)",
   "language": "python",
   "name": "python3"
  },
  "language_info": {
   "codemirror_mode": {
    "name": "ipython",
    "version": 3
   },
   "file_extension": ".py",
   "mimetype": "text/x-python",
   "name": "python",
   "nbconvert_exporter": "python",
   "pygments_lexer": "ipython3",
   "version": "3.12.4"
  }
 },
 "nbformat": 4,
 "nbformat_minor": 5
}
