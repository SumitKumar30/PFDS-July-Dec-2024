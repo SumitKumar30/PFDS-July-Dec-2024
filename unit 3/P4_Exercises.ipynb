{
 "cells": [
  {
   "cell_type": "markdown",
   "id": "35bd58cd-0db5-44dd-9502-1f32ab00d437",
   "metadata": {},
   "source": [
    "### Classes & Objects Basics"
   ]
  },
  {
   "cell_type": "markdown",
   "id": "d497f2ac-4651-4445-ba88-27669be3469d",
   "metadata": {},
   "source": [
    "**Problem 1**\r\n",
    "Create a class called Product with the following attributes and methods:\r\n",
    "\r\n",
    "Attributes1. :\r\n",
    "\r\n",
    "name: The name of the prod2. uct.\r\n",
    "price: The price of the pro3. duct.\r\n",
    "quantity: The available quantity of the product.\r\n",
    "Methods:\r\n",
    "\r\n",
    "buy(self, amount): Reduce the quantity of the product by amount if there are enough in stock; otherwise, print an \"Out of stock\" message.\r\n",
    "restock(self, amount): Increase the quantity of the product by amount.\r\n",
    "display_info(self): Print the product's details."
   ]
  },
  {
   "cell_type": "code",
   "execution_count": null,
   "id": "5ebcc9ce-edd8-491f-97e0-d7310fbd34f4",
   "metadata": {},
   "outputs": [],
   "source": []
  }
 ],
 "metadata": {
  "kernelspec": {
   "display_name": "Python 3 (ipykernel)",
   "language": "python",
   "name": "python3"
  },
  "language_info": {
   "codemirror_mode": {
    "name": "ipython",
    "version": 3
   },
   "file_extension": ".py",
   "mimetype": "text/x-python",
   "name": "python",
   "nbconvert_exporter": "python",
   "pygments_lexer": "ipython3",
   "version": "3.12.4"
  }
 },
 "nbformat": 4,
 "nbformat_minor": 5
}
