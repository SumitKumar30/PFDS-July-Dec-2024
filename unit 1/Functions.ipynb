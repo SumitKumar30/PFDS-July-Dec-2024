{
 "cells": [
  {
   "cell_type": "code",
   "execution_count": 6,
   "metadata": {
    "collapsed": false,
    "jupyter": {
     "outputs_hidden": false
    }
   },
   "outputs": [
    {
     "name": "stdout",
     "output_type": "stream",
     "text": [
      "Hello World\n"
     ]
    }
   ],
   "source": [
    "def scream():\n",
    "    print('Hello World')\n",
    "scream()\n"
   ]
  },
  {
   "cell_type": "code",
   "execution_count": 8,
   "metadata": {},
   "outputs": [],
   "source": [
    "def square(num):\n",
    "    out = num**2\n",
    "    return(out)\n"
   ]
  },
  {
   "cell_type": "code",
   "execution_count": 10,
   "metadata": {
    "collapsed": false,
    "jupyter": {
     "outputs_hidden": false
    }
   },
   "outputs": [
    {
     "name": "stdout",
     "output_type": "stream",
     "text": [
      "9\n"
     ]
    }
   ],
   "source": [
    "sq_3 = square(3)\n",
    "print(sq_3)"
   ]
  },
  {
   "cell_type": "code",
   "execution_count": 12,
   "metadata": {},
   "outputs": [],
   "source": [
    "def square(num):\n",
    "    out = num**2\n",
    "    print(out)\n"
   ]
  },
  {
   "cell_type": "code",
   "execution_count": 14,
   "metadata": {
    "collapsed": false,
    "jupyter": {
     "outputs_hidden": false
    }
   },
   "outputs": [
    {
     "name": "stdout",
     "output_type": "stream",
     "text": [
      "16\n",
      "Q isNone\n"
     ]
    }
   ],
   "source": [
    "q = square(4)\n",
    "print(\"Q is\"+str(q))\n"
   ]
  },
  {
   "cell_type": "code",
   "execution_count": 16,
   "metadata": {
    "collapsed": false,
    "jupyter": {
     "outputs_hidden": false
    }
   },
   "outputs": [
    {
     "name": "stdout",
     "output_type": "stream",
     "text": [
      "120\n"
     ]
    }
   ],
   "source": [
    "def factorial(n):\n",
    "    if n>1:\n",
    "        return n*factorial(n-1)\n",
    "    else:\n",
    "        return n\n",
    "\n",
    "fact = factorial(5)\n",
    "print(fact)\n"
   ]
  },
  {
   "cell_type": "code",
   "execution_count": 18,
   "metadata": {},
   "outputs": [],
   "source": [
    "def addition(*args):\n",
    "    print(args)\n",
    "    return(sum(args))\n"
   ]
  },
  {
   "cell_type": "code",
   "execution_count": 20,
   "metadata": {
    "collapsed": false,
    "jupyter": {
     "outputs_hidden": false
    }
   },
   "outputs": [
    {
     "name": "stdout",
     "output_type": "stream",
     "text": [
      "(4, 5, 6, 7, 8, 9)\n",
      "39\n",
      "(1, 2)\n",
      "3\n"
     ]
    }
   ],
   "source": [
    "print(addition(4,5,6,7,8,9))\n",
    "print(addition(1,2))"
   ]
  },
  {
   "cell_type": "code",
   "execution_count": 22,
   "metadata": {
    "collapsed": false,
    "jupyter": {
     "outputs_hidden": false
    }
   },
   "outputs": [
    {
     "name": "stdout",
     "output_type": "stream",
     "text": [
      "Mahendra Singh Dhoni\n"
     ]
    }
   ],
   "source": [
    "def proper(some_text):\n",
    "    some_text = some_text.strip()\n",
    "    some_text = \" \".join([word[0].upper() + word[1:] for word in some_text.split()])\n",
    "    return some_text\n",
    "\n",
    "captain = proper(\"mahendra singh dhoni\")\n",
    "print(captain)\n"
   ]
  },
  {
   "cell_type": "code",
   "execution_count": 24,
   "metadata": {
    "collapsed": false,
    "jupyter": {
     "outputs_hidden": false
    }
   },
   "outputs": [
    {
     "name": "stdout",
     "output_type": "stream",
     "text": [
      "['Mahendra', 'Singh', 'Dhoni']\n",
      "<class 'function'>\n"
     ]
    }
   ],
   "source": [
    "string_to_list = lambda x: x.split()\n",
    "print(string_to_list(captain))\n",
    "print(type(string_to_list))\n"
   ]
  },
  {
   "cell_type": "code",
   "execution_count": 26,
   "metadata": {
    "collapsed": false,
    "jupyter": {
     "outputs_hidden": false
    }
   },
   "outputs": [
    {
     "name": "stdout",
     "output_type": "stream",
     "text": [
      "12\n"
     ]
    }
   ],
   "source": [
    "product = lambda x, y : x*y\n",
    "print(product(3,4))\n"
   ]
  },
  {
   "cell_type": "markdown",
   "metadata": {},
   "source": [
    "Create a function squared(),  which takes x and y as arguments and returns the x**y value. For e.g., if x = 2  and y = 3 , then the output is 8."
   ]
  },
  {
   "cell_type": "code",
   "execution_count": null,
   "metadata": {},
   "outputs": [],
   "source": [
    "Create a lambda function 'greater', which takes two arguments x and y and return x if x>y otherwise y.\n",
    "If x = 2 and y= 3, then the output should be 3."
   ]
  },
  {
   "cell_type": "code",
   "execution_count": null,
   "metadata": {},
   "outputs": [],
   "source": [
    "What is the output of the following program?\n",
    "\n",
    "def say(message, times = 1):\n",
    "    print(message * times)\n",
    "\n",
    "say('Hello')\n",
    "say('World', 5)\n",
    "\n",
    "(a) Hello\n",
    "(b) Hello World,World,World,World,World\n",
    "(c) Hello World 5\n",
    "(d) Hello WorldWorldWorldWorldWorld"
   ]
  },
  {
   "cell_type": "code",
   "execution_count": null,
   "metadata": {},
   "outputs": [],
   "source": [
    "What is the output of this program?\n",
    "\n",
    "min = (lambda x, y: x if x < y else y)\n",
    "min(101*99, 102*98)\n",
    "\n",
    "(a) 9998\n",
    "(b) 9997\n",
    "(c) 9999\n",
    "(d) 9996"
   ]
  },
  {
   "cell_type": "markdown",
   "metadata": {},
   "source": [
    "Keyword Arguments"
   ]
  },
  {
   "cell_type": "code",
   "execution_count": 28,
   "metadata": {},
   "outputs": [
    {
     "name": "stdout",
     "output_type": "stream",
     "text": [
      "a is 3 and b is 7 and c is 10\n",
      "a is 25 and b is 5 and c is 24\n",
      "a is 100 and b is 5 and c is 50\n"
     ]
    }
   ],
   "source": [
    "def func(a, b=5, c=10):\n",
    "    print('a is', a, 'and b is', b, 'and c is', c)\n",
    "\n",
    "func(3, 7)\n",
    "func(25, c=24)\n",
    "func(c=50, a=100)"
   ]
  },
  {
   "cell_type": "markdown",
   "metadata": {},
   "source": [
    "VarArgs parameters"
   ]
  },
  {
   "cell_type": "code",
   "execution_count": 30,
   "metadata": {},
   "outputs": [
    {
     "name": "stdout",
     "output_type": "stream",
     "text": [
      "a 10\n",
      "single_item 1\n",
      "single_item 2\n",
      "single_item 3\n",
      "Jack 1123\n",
      "John 2231\n",
      "Inge 1560\n"
     ]
    }
   ],
   "source": [
    "def total(a=5, *numbers, **phonebook):\n",
    "    print('a', a)\n",
    "\n",
    "    #iterate through all the items in tuple\n",
    "    for single_item in numbers:\n",
    "        print('single_item', single_item)\n",
    "\n",
    "    #iterate through all the items in dictionary    \n",
    "    for first_part, second_part in phonebook.items():\n",
    "        print(first_part,second_part)\n",
    "\n",
    "total(10,1,2,3,Jack=1123,John=2231,Inge=1560)"
   ]
  },
  {
   "cell_type": "code",
   "execution_count": null,
   "metadata": {},
   "outputs": [],
   "source": []
  }
 ],
 "metadata": {
  "anaconda-cloud": {},
  "kernelspec": {
   "display_name": "Python 3 (ipykernel)",
   "language": "python",
   "name": "python3"
  },
  "language_info": {
   "codemirror_mode": {
    "name": "ipython",
    "version": 3
   },
   "file_extension": ".py",
   "mimetype": "text/x-python",
   "name": "python",
   "nbconvert_exporter": "python",
   "pygments_lexer": "ipython3",
   "version": "3.12.4"
  }
 },
 "nbformat": 4,
 "nbformat_minor": 4
}
