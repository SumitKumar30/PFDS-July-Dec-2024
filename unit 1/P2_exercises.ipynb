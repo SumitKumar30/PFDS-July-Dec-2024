{
 "cells": [
  {
   "cell_type": "markdown",
   "id": "03f4cea8-94c0-4fb1-944e-699eea4437ff",
   "metadata": {},
   "source": [
    "Question 1\n",
    "An e-commerce store has a list of daily sales data. Each sale is represented as a tuple containing (product_id, quantity, price). Write a function to calculate the total revenue for a specific product."
   ]
  },
  {
   "cell_type": "markdown",
   "id": "62290522-3a85-4cd8-89d6-1c7ac618e268",
   "metadata": {},
   "source": [
    "Question 2\n",
    "Write a function categorize_scores that takes a list of tuples, where each tuple contains a name and a score. The function should return a dictionary categorizing the names into 'Pass' and 'Fail' based on a passing threshold. Scores greater than or equal to the threshold are considered 'Pass'."
   ]
  },
  {
   "cell_type": "markdown",
   "id": "4f9a725d-3b62-46b6-832b-18378e8ae6ed",
   "metadata": {},
   "source": [
    "Question 3\n",
    "You have a list of lists representing a matrix. Write a function transpose_matrix that transposes the matrix (i.e., converts rows into columns and vice versa) using nested loops."
   ]
  },
  {
   "cell_type": "markdown",
   "id": "34996f04-9e42-417a-a7c2-f2c4a0f3b75c",
   "metadata": {},
   "source": [
    "Question 4\n",
    "Create a function to validate email addresses. Use loops and conditionals to check for the presence of '@' and '.', and the format of the email address. Return a boolean indicating whether the email is valid."
   ]
  },
  {
   "cell_type": "markdown",
   "id": "cc7d9abc-e495-49ec-bfb2-ff20dd49f722",
   "metadata": {},
   "source": [
    "Question 5\n",
    "Write a function to determine if a given number is prime. Use loops and conditionals to check divisibility. Return a boolean indicating whether the number is prime."
   ]
  },
  {
   "cell_type": "markdown",
   "id": "4a2cc29c-f5a7-4aa9-9366-318ba2366f46",
   "metadata": {},
   "source": [
    "Question 6\n",
    "Create a function to assess the strength of a password. Use loops, conditionals, and regular expressions (optional) to check for password length, character types (uppercase, lowercase, digits, special characters), and common patterns."
   ]
  },
  {
   "cell_type": "markdown",
   "id": "b1337a86-6eee-478e-a9f1-2f773a3f1fa7",
   "metadata": {},
   "source": [
    "Question 7\n",
    "Given a list of numbers and a number k, return whether any two numbers from the list add up to k.\r\n",
    "\r\n",
    "Examples\r\n",
    "Input:\r\n",
    "  arr: [10, 15, 3, 7]\r\n",
    "  k: 17\r\n",
    "\r\n",
    "Output:\r\n",
    "  True (because 10 + 7 = 17)"
   ]
  },
  {
   "cell_type": "markdown",
   "id": "4ce65aa2-2449-47a8-8d01-d7392259ff0b",
   "metadata": {},
   "source": [
    "Question 8\n",
    "Create a function to count the occurrences of each word in a given text. Ignore punctuation and convert all words to lowercase. Use dictionaries and loops."
   ]
  },
  {
   "cell_type": "markdown",
   "id": "465c84e2-a0b9-4674-a8df-fa2b6bc4fe90",
   "metadata": {},
   "source": [
    "Question 9\n",
    "Implement a shopping cart using a dictionary. Each item is represented as a tuple (product, quantity, price). Calculate the total cost and provide a function to remove items from the cart."
   ]
  },
  {
   "cell_type": "markdown",
   "id": "9f09b2e1-e1e8-4846-aaf8-664cad8e7d04",
   "metadata": {},
   "source": [
    "Question 10\n",
    "Determine whether a given string is a palindrome. Ignore case and punctuation. Use string manipulation, slicing, and potentially loops."
   ]
  }
 ],
 "metadata": {
  "kernelspec": {
   "display_name": "Python 3 (ipykernel)",
   "language": "python",
   "name": "python3"
  },
  "language_info": {
   "codemirror_mode": {
    "name": "ipython",
    "version": 3
   },
   "file_extension": ".py",
   "mimetype": "text/x-python",
   "name": "python",
   "nbconvert_exporter": "python",
   "pygments_lexer": "ipython3",
   "version": "3.12.4"
  }
 },
 "nbformat": 4,
 "nbformat_minor": 5
}
